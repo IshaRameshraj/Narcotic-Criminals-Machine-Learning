{
 "cells": [
  {
   "cell_type": "code",
   "execution_count": 1,
   "metadata": {},
   "outputs": [],
   "source": [
    "import pandas as pd\n",
    "import numpy as np\n",
    "import matplotlib.pyplot as plt\n",
    "%matplotlib inline"
   ]
  },
  {
   "cell_type": "code",
   "execution_count": 2,
   "metadata": {
    "scrolled": false
   },
   "outputs": [],
   "source": [
    "filename=r'C:\\Users\\User\\Desktop\\narcotics internship\\US3.csv'\n",
    "dataset = pd.read_csv(filename)"
   ]
  },
  {
   "cell_type": "code",
   "execution_count": 3,
   "metadata": {},
   "outputs": [
    {
     "data": {
      "text/plain": [
       "(128790, 9)"
      ]
     },
     "execution_count": 3,
     "metadata": {},
     "output_type": "execute_result"
    }
   ],
   "source": [
    "dataset.shape\n"
   ]
  },
  {
   "cell_type": "code",
   "execution_count": 4,
   "metadata": {},
   "outputs": [
    {
     "data": {
      "text/html": [
       "<div>\n",
       "<style scoped>\n",
       "    .dataframe tbody tr th:only-of-type {\n",
       "        vertical-align: middle;\n",
       "    }\n",
       "\n",
       "    .dataframe tbody tr th {\n",
       "        vertical-align: top;\n",
       "    }\n",
       "\n",
       "    .dataframe thead th {\n",
       "        text-align: right;\n",
       "    }\n",
       "</style>\n",
       "<table border=\"1\" class=\"dataframe\">\n",
       "  <thead>\n",
       "    <tr style=\"text-align: right;\">\n",
       "      <th></th>\n",
       "      <th>Year</th>\n",
       "      <th>Population</th>\n",
       "      <th>Type</th>\n",
       "      <th>NonUSBorn</th>\n",
       "      <th>EducationCount</th>\n",
       "      <th>CommuteCount</th>\n",
       "      <th>Income</th>\n",
       "      <th>GDP</th>\n",
       "      <th>Unemployment</th>\n",
       "    </tr>\n",
       "  </thead>\n",
       "  <tbody>\n",
       "    <tr>\n",
       "      <th>0</th>\n",
       "      <td>2011</td>\n",
       "      <td>186717.0</td>\n",
       "      <td>Heroin</td>\n",
       "      <td>5147</td>\n",
       "      <td>15094</td>\n",
       "      <td>81.4</td>\n",
       "      <td>67770</td>\n",
       "      <td>5016735</td>\n",
       "      <td>9.0</td>\n",
       "    </tr>\n",
       "    <tr>\n",
       "      <th>1</th>\n",
       "      <td>2011</td>\n",
       "      <td>186717.0</td>\n",
       "      <td>Heroin</td>\n",
       "      <td>5147</td>\n",
       "      <td>15094</td>\n",
       "      <td>81.4</td>\n",
       "      <td>67770</td>\n",
       "      <td>478277</td>\n",
       "      <td>9.0</td>\n",
       "    </tr>\n",
       "    <tr>\n",
       "      <th>2</th>\n",
       "      <td>2011</td>\n",
       "      <td>186717.0</td>\n",
       "      <td>Heroin</td>\n",
       "      <td>5147</td>\n",
       "      <td>15094</td>\n",
       "      <td>12.9</td>\n",
       "      <td>67770</td>\n",
       "      <td>5016735</td>\n",
       "      <td>9.0</td>\n",
       "    </tr>\n",
       "    <tr>\n",
       "      <th>3</th>\n",
       "      <td>2011</td>\n",
       "      <td>186717.0</td>\n",
       "      <td>Heroin</td>\n",
       "      <td>5147</td>\n",
       "      <td>15094</td>\n",
       "      <td>12.9</td>\n",
       "      <td>67770</td>\n",
       "      <td>478277</td>\n",
       "      <td>9.0</td>\n",
       "    </tr>\n",
       "    <tr>\n",
       "      <th>4</th>\n",
       "      <td>2011</td>\n",
       "      <td>186717.0</td>\n",
       "      <td>Heroin</td>\n",
       "      <td>5147</td>\n",
       "      <td>15094</td>\n",
       "      <td>0.9</td>\n",
       "      <td>67770</td>\n",
       "      <td>5016735</td>\n",
       "      <td>9.0</td>\n",
       "    </tr>\n",
       "  </tbody>\n",
       "</table>\n",
       "</div>"
      ],
      "text/plain": [
       "   Year  Population    Type  NonUSBorn  EducationCount  CommuteCount  Income  \\\n",
       "0  2011    186717.0  Heroin       5147           15094          81.4   67770   \n",
       "1  2011    186717.0  Heroin       5147           15094          81.4   67770   \n",
       "2  2011    186717.0  Heroin       5147           15094          12.9   67770   \n",
       "3  2011    186717.0  Heroin       5147           15094          12.9   67770   \n",
       "4  2011    186717.0  Heroin       5147           15094           0.9   67770   \n",
       "\n",
       "       GDP  Unemployment  \n",
       "0  5016735           9.0  \n",
       "1   478277           9.0  \n",
       "2  5016735           9.0  \n",
       "3   478277           9.0  \n",
       "4  5016735           9.0  "
      ]
     },
     "execution_count": 4,
     "metadata": {},
     "output_type": "execute_result"
    }
   ],
   "source": [
    "dataset.head()"
   ]
  },
  {
   "cell_type": "code",
   "execution_count": 5,
   "metadata": {},
   "outputs": [],
   "source": [
    "missing_data=['Year','Population','NonUSBorn','EducationCount','CommuteCount','Income','GDP','Unemployment']\n",
    "for column in missing_data:\n",
    "    dataset[column]=dataset[column].replace(0,np.NaN)\n",
    "    mean=int(dataset[column].mean(skipna=True))\n",
    "    dataset[column]=dataset[column].replace(np.NaN,mean)"
   ]
  },
  {
   "cell_type": "code",
   "execution_count": 6,
   "metadata": {},
   "outputs": [
    {
     "name": "stdout",
     "output_type": "stream",
     "text": [
      "        Year  Population       Type  NonUSBorn  EducationCount  CommuteCount  \\\n",
      "0       2011    186717.0     Heroin     5147.0         15094.0          81.4   \n",
      "1       2011    186717.0     Heroin     5147.0         15094.0          81.4   \n",
      "2       2011    186717.0     Heroin     5147.0         15094.0          12.9   \n",
      "3       2011    186717.0     Heroin     5147.0         15094.0          12.9   \n",
      "4       2011    186717.0     Heroin     5147.0         15094.0           0.9   \n",
      "...      ...         ...        ...        ...             ...           ...   \n",
      "128785  2017     97638.0  Methadone     3855.0         19545.0           4.0   \n",
      "128786  2017     97638.0  Methadone     3855.0         19545.0           4.0   \n",
      "128787  2017     97638.0  Methadone     3855.0          7853.0          75.6   \n",
      "128788  2017     97638.0  Methadone     3855.0          7853.0          75.6   \n",
      "128789  2017     97638.0  Methadone     3855.0          7853.0          17.1   \n",
      "\n",
      "         Income        GDP  Unemployment  \n",
      "0       67770.0  5016735.0           9.0  \n",
      "1       67770.0   478277.0           9.0  \n",
      "2       67770.0  5016735.0           9.0  \n",
      "3       67770.0   478277.0           9.0  \n",
      "4       67770.0  5016735.0           9.0  \n",
      "...         ...        ...           ...  \n",
      "128785  58163.0  3591754.0           4.0  \n",
      "128786  58163.0   154014.0           4.0  \n",
      "128787  58163.0  3591754.0           4.0  \n",
      "128788  58163.0   154014.0           4.0  \n",
      "128789  58163.0  3591754.0           4.0  \n",
      "\n",
      "[128790 rows x 9 columns]\n"
     ]
    }
   ],
   "source": [
    "df = pd.DataFrame(dataset,columns=['Year','Population','Type','NonUSBorn','EducationCount','CommuteCount','Income','GDP','Unemployment'])\n",
    "print (df)"
   ]
  },
  {
   "cell_type": "code",
   "execution_count": 7,
   "metadata": {},
   "outputs": [
    {
     "name": "stdout",
     "output_type": "stream",
     "text": [
      "                    Year  Population  NonUSBorn  EducationCount  CommuteCount  \\\n",
      "Year            1.000000    0.006122   0.014611        0.012059      0.001208   \n",
      "Population      0.006122    1.000000   0.912650        0.923086     -0.007852   \n",
      "NonUSBorn       0.014611    0.912650   1.000000        0.863807     -0.005614   \n",
      "EducationCount  0.012059    0.923086   0.863807        1.000000     -0.007326   \n",
      "CommuteCount    0.001208   -0.007852  -0.005614       -0.007326      1.000000   \n",
      "Income          0.137005    0.244888   0.214381        0.233491     -0.003725   \n",
      "GDP             0.016508    0.644783   0.596961        0.600857     -0.005475   \n",
      "Unemployment   -0.731289   -0.006297   0.010469       -0.010328     -0.001342   \n",
      "\n",
      "                  Income       GDP  Unemployment  \n",
      "Year            0.137005  0.016508     -0.731289  \n",
      "Population      0.244888  0.644783     -0.006297  \n",
      "NonUSBorn       0.214381  0.596961      0.010469  \n",
      "EducationCount  0.233491  0.600857     -0.010328  \n",
      "CommuteCount   -0.003725 -0.005475     -0.001342  \n",
      "Income          1.000000  0.230715     -0.357382  \n",
      "GDP             0.230715  1.000000     -0.035265  \n",
      "Unemployment   -0.357382 -0.035265      1.000000  \n"
     ]
    }
   ],
   "source": [
    "corrMatrix = df.corr()\n",
    "print (corrMatrix)"
   ]
  },
  {
   "cell_type": "code",
   "execution_count": 8,
   "metadata": {},
   "outputs": [],
   "source": [
    "import seaborn as sn"
   ]
  },
  {
   "cell_type": "code",
   "execution_count": 9,
   "metadata": {},
   "outputs": [
    {
     "data": {
      "image/png": "[encoded data removed]",
      "text/plain": [
       "<Figure size 432x288 with 2 Axes>"
      ]
     },
     "metadata": {
      "needs_background": "light"
     },
     "output_type": "display_data"
    }
   ],
   "source": [
    "sn.heatmap(corrMatrix, annot=True)\n",
    "plt.show()"
   ]
  },
  {
   "cell_type": "code",
   "execution_count": 10,
   "metadata": {},
   "outputs": [],
   "source": [
    "X = dataset.drop('Type', axis=1)\n",
    "y = dataset['Type']"
   ]
  },
  {
   "cell_type": "code",
   "execution_count": 11,
   "metadata": {},
   "outputs": [],
   "source": [
    "from sklearn.model_selection import train_test_split\n",
    "X_train, X_test, y_train, y_test = train_test_split(X, y, test_size = 0.5)"
   ]
  },
  {
   "cell_type": "code",
   "execution_count": 12,
   "metadata": {},
   "outputs": [],
   "source": [
    "from sklearn.preprocessing import MinMaxScaler\n",
    "scaling = MinMaxScaler(feature_range=(-1,1)).fit(X_train)\n",
    "X_train = scaling.transform(X_train)\n",
    "X_test = scaling.transform(X_test)"
   ]
  },
  {
   "cell_type": "code",
   "execution_count": 25,
   "metadata": {},
   "outputs": [
    {
     "data": {
      "text/plain": [
       "SVC(kernel='sigmoid')"
      ]
     },
     "execution_count": 25,
     "metadata": {},
     "output_type": "execute_result"
    }
   ],
   "source": [
    "from sklearn.svm import SVC\n",
    "#svclassifier = SVC(kernel='linear')\n",
    "#svclassifier = SVC(kernel='poly', degree=8)\n",
    "svclassifier = SVC(kernel='sigmoid')\n",
    "svclassifier.fit(X_train, y_train)\n",
    "\n",
    "\n",
    "  "
   ]
  },
  {
   "cell_type": "code",
   "execution_count": 26,
   "metadata": {},
   "outputs": [],
   "source": [
    "y_pred = svclassifier.predict(X_test)\n"
   ]
  },
  {
   "cell_type": "code",
   "execution_count": 27,
   "metadata": {},
   "outputs": [
    {
     "name": "stdout",
     "output_type": "stream",
     "text": [
      "[[ 4325  4873]\n",
      " [ 4823 50374]]\n",
      "              precision    recall  f1-score   support\n",
      "\n",
      "      Heroin       0.47      0.47      0.47      9198\n",
      "   Methadone       0.91      0.91      0.91     55197\n",
      "\n",
      "    accuracy                           0.85     64395\n",
      "   macro avg       0.69      0.69      0.69     64395\n",
      "weighted avg       0.85      0.85      0.85     64395\n",
      "\n"
     ]
    }
   ],
   "source": [
    "from sklearn.metrics import classification_report, confusion_matrix\n",
    "print(confusion_matrix(y_test,y_pred))\n",
    "print(classification_report(y_test,y_pred))"
   ]
  },
  {
   "cell_type": "code",
   "execution_count": null,
   "metadata": {},
   "outputs": [],
   "source": []
  }
 ],
 "metadata": {
  "kernelspec": {
   "display_name": "Python 3",
   "language": "python",
   "name": "python3"
  },
  "language_info": {
   "codemirror_mode": {
    "name": "ipython",
    "version": 3
   },
   "file_extension": ".py",
   "mimetype": "text/x-python",
   "name": "python",
   "nbconvert_exporter": "python",
   "pygments_lexer": "ipython3",
   "version": "3.8.3"
  }
 },
 "nbformat": 4,
 "nbformat_minor": 4
}
